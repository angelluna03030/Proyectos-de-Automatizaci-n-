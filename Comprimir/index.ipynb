{
 "cells": [
  {
   "cell_type": "code",
   "execution_count": 1,
   "metadata": {},
   "outputs": [],
   "source": [
    "from PIL import Image\n",
    "import os"
   ]
  },
  {
   "cell_type": "code",
   "execution_count": 2,
   "metadata": {},
   "outputs": [],
   "source": [
    "\n",
    "downloads_folder = \"C:/Users/angel/OneDrive/Escritorio/proyectos/automatizacion/Comprimir/CompimirImagenes\"\n"
   ]
  },
  {
   "cell_type": "code",
   "execution_count": 3,
   "metadata": {},
   "outputs": [],
   "source": [
    "if __name__ == \"__main__\":\n",
    "    for filename in os.listdir(downloads_folder):\n",
    "        name, extension = os.path.splitext(filename)\n",
    "\n",
    "        if extension.lower() in [\".png\", \".jpg\", \".jpeg\"]:\n",
    "            file_path = os.path.join(downloads_folder, filename)\n",
    "            picture = Image.open(file_path)\n",
    "            compressed_file_path = os.path.join(downloads_folder, \"comprimidi_\" + filename)\n",
    "            picture.save(compressed_file_path, optimize=True, quality=60)\n"
   ]
  }
 ],
 "metadata": {
  "kernelspec": {
   "display_name": "Python 3",
   "language": "python",
   "name": "python3"
  },
  "language_info": {
   "codemirror_mode": {
    "name": "ipython",
    "version": 3
   },
   "file_extension": ".py",
   "mimetype": "text/x-python",
   "name": "python",
   "nbconvert_exporter": "python",
   "pygments_lexer": "ipython3",
   "version": "3.12.4"
  }
 },
 "nbformat": 4,
 "nbformat_minor": 2
}
