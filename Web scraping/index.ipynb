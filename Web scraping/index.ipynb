{
 "cells": [
  {
   "cell_type": "code",
   "execution_count": 2,
   "metadata": {},
   "outputs": [],
   "source": [
    "import pandas as pd\n",
    "import requests\n",
    "from io import StringIO\n"
   ]
  },
  {
   "cell_type": "code",
   "execution_count": 3,
   "metadata": {},
   "outputs": [],
   "source": [
    "url = \"https://pokemondb.net/pokedex/all\"\n",
    "r = requests.get(url)\n",
    "html_content = r.text"
   ]
  },
  {
   "cell_type": "code",
   "execution_count": 4,
   "metadata": {},
   "outputs": [],
   "source": [
    "df_list = pd.read_html(StringIO(html_content), attrs={'id': 'pokedex'})\n"
   ]
  },
  {
   "cell_type": "code",
   "execution_count": 5,
   "metadata": {},
   "outputs": [
    {
     "name": "stdout",
     "output_type": "stream",
     "text": [
      "   #                     Name           Type  Total  HP  Attack  Defense  \\\n",
      "0  1                Bulbasaur  Grass  Poison    318  45      49       49   \n",
      "1  2                  Ivysaur  Grass  Poison    405  60      62       63   \n",
      "2  3                 Venusaur  Grass  Poison    525  80      82       83   \n",
      "3  3  Venusaur  Mega Venusaur  Grass  Poison    625  80     100      123   \n",
      "4  4               Charmander           Fire    309  39      52       43   \n",
      "\n",
      "   Sp. Atk  Sp. Def  Speed  \n",
      "0       65       65     45  \n",
      "1       80       80     60  \n",
      "2      100      100     80  \n",
      "3      122      120     80  \n",
      "4       60       50     65  \n"
     ]
    }
   ],
   "source": [
    "df = df_list[0]\n",
    "\n",
    "print(df.head())"
   ]
  },
  {
   "cell_type": "code",
   "execution_count": 7,
   "metadata": {},
   "outputs": [],
   "source": [
    "df.to_csv('pokemon.csv', index=False)"
   ]
  },
  {
   "cell_type": "code",
   "execution_count": 11,
   "metadata": {},
   "outputs": [],
   "source": [
    "df.to_excel('pokemon.xlsx', index=False)\n"
   ]
  }
 ],
 "metadata": {
  "kernelspec": {
   "display_name": "Python 3",
   "language": "python",
   "name": "python3"
  },
  "language_info": {
   "codemirror_mode": {
    "name": "ipython",
    "version": 3
   },
   "file_extension": ".py",
   "mimetype": "text/x-python",
   "name": "python",
   "nbconvert_exporter": "python",
   "pygments_lexer": "ipython3",
   "version": "3.12.4"
  }
 },
 "nbformat": 4,
 "nbformat_minor": 2
}
