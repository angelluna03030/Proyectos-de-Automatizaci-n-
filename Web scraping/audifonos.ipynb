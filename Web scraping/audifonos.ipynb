{
 "cells": [
  {
   "cell_type": "code",
   "execution_count": 6,
   "metadata": {},
   "outputs": [],
   "source": [
    "import requests\n",
    "from bs4 import BeautifulSoup\n",
    "import pandas as pd\n",
    "\n",
    "\n"
   ]
  },
  {
   "cell_type": "code",
   "execution_count": 7,
   "metadata": {},
   "outputs": [],
   "source": [
    "\n",
    "url = \"https://listado.mercadolibre.com.co/audifonos-inal%C3%A1mbricos#D[A:audifonos%20inal%C3%A1mbricos]\"\n",
    "response = requests.get(url)\n",
    "soup = BeautifulSoup(response.content, 'html.parser')\n"
   ]
  },
  {
   "cell_type": "code",
   "execution_count": 8,
   "metadata": {},
   "outputs": [],
   "source": [
    "items = soup.find_all('li', class_='ui-search-layout__item shops__layout-item ui-search-layout__stack')\n",
    "\n",
    "data = []\n"
   ]
  },
  {
   "cell_type": "code",
   "execution_count": 9,
   "metadata": {},
   "outputs": [
    {
     "name": "stdout",
     "output_type": "stream",
     "text": [
      "Datos extraídos y guardados en 'audifonos_inalambricos.csv'.\n"
     ]
    }
   ],
   "source": [
    "for item in items:\n",
    "    name_tag = item.find('a', class_='ui-search-item__group__element ui-search-link__title-card ui-search-link')\n",
    "    price_tag = item.find('span', class_='andes-money-amount__fraction')\n",
    "    rating_tag = item.find('span', class_='ui-search-reviews__rating-number')\n",
    "    \n",
    "    name = name_tag.text if name_tag else 'No name'\n",
    "    price = price_tag.text if price_tag else 'No price'\n",
    "    rating = rating_tag.text if rating_tag else 'No rating'\n",
    "    \n",
    "    data.append([name, price, rating])\n",
    "\n",
    "df = pd.DataFrame(data, columns=['Nombre', 'Precio', 'Calificación'])\n",
    "df.to_csv('audifonos_inalambricos.csv', index=False)\n",
    "\n",
    "print(\"Datos extraídos y guardados en 'audifonos_inalambricos.csv'.\")"
   ]
  },
  {
   "cell_type": "code",
   "execution_count": 10,
   "metadata": {},
   "outputs": [
    {
     "name": "stdout",
     "output_type": "stream",
     "text": [
      "Datos extraídos y guardados en 'audifonos_inalambricos.xlsx'.\n"
     ]
    }
   ],
   "source": [
    "for item in items:\n",
    "    name_tag = item.find('a', class_='ui-search-item__group__element ui-search-link__title-card ui-search-link')\n",
    "    price_tag = item.find('span', class_='andes-money-amount__fraction')\n",
    "    rating_tag = item.find('span', class_='ui-search-reviews__rating-number')\n",
    "    \n",
    "    name = name_tag.text if name_tag else 'No Nombre'\n",
    "    price = price_tag.text if price_tag else 'No Precio'\n",
    "    rating = rating_tag.text if rating_tag else 'No Calificacion'\n",
    "    \n",
    "    data.append([name, price, rating])\n",
    "\n",
    "df = pd.DataFrame(data, columns=['Nombre', 'Precio', 'Calificación'])\n",
    "df.to_excel('audifonos_inalambricos.xlsx', index=False)\n",
    "\n",
    "print(\"Datos extraídos y guardados en 'audifonos_inalambricos.xlsx'.\")"
   ]
  }
 ],
 "metadata": {
  "kernelspec": {
   "display_name": "Python 3",
   "language": "python",
   "name": "python3"
  },
  "language_info": {
   "codemirror_mode": {
    "name": "ipython",
    "version": 3
   },
   "file_extension": ".py",
   "mimetype": "text/x-python",
   "name": "python",
   "nbconvert_exporter": "python",
   "pygments_lexer": "ipython3",
   "version": "3.12.4"
  }
 },
 "nbformat": 4,
 "nbformat_minor": 2
}
